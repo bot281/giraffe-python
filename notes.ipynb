{
 "cells": [
  {
   "cell_type": "markdown",
   "id": "e1b46efd",
   "metadata": {},
   "source": [
    "## quick history\n",
    "\n",
    "### What is python?\n",
    "object oriented programming language created in late 1980s by Guido van Rossum\n",
    "main focus of Python is readability, to make it easy to read and write\n",
    "python focuses on white-spaces instead of curly brackets and semicolons\n",
    "\n",
    "#### how does python run?\n",
    "all python code runs using an interpreter, the most popular one called CPython, which is made in C\n",
    "CPython comes with memory management which is called garbage collector\n",
    "very minimalist, and non-traditional\n",
    "\n",
    "#### versions of python\n",
    "python has two major non-compatible versions widely used\n",
    "2012 = version 2.7.3, final version 2 released, backwards compatible with prior\n",
    "2008 = python 3 introduced, slow release at first (because of package libraries) but is mainstream now"
   ]
  },
  {
   "cell_type": "code",
   "execution_count": 1,
   "id": "3f1cb235",
   "metadata": {},
   "outputs": [
    {
     "name": "stdout",
     "output_type": "stream",
     "text": [
      "well hello, this is easy\n"
     ]
    }
   ],
   "source": [
    "# printing\n",
    "print('well hello, this is easy')"
   ]
  },
  {
   "cell_type": "code",
   "execution_count": 2,
   "id": "0edd309f",
   "metadata": {},
   "outputs": [],
   "source": [
    "# variables\n",
    "word = \"banana\"\n",
    "amount = 7\n",
    "pi = 3.14\n",
    "is_banana = True"
   ]
  },
  {
   "cell_type": "code",
   "execution_count": 3,
   "id": "0a6703bc",
   "metadata": {},
   "outputs": [
    {
     "name": "stdout",
     "output_type": "stream",
     "text": [
      "3\n",
      "3.0\n",
      "True\n",
      "70\n"
     ]
    }
   ],
   "source": [
    "# casting\n",
    "print(int(3.14))\n",
    "print(float(3))\n",
    "print(str(True))\n",
    "print(int(\"50\") + int(\"20\"))"
   ]
  },
  {
   "cell_type": "code",
   "execution_count": 9,
   "id": "caac5f93",
   "metadata": {},
   "outputs": [
    {
     "name": "stdout",
     "output_type": "stream",
     "text": [
      "banana\n",
      "6\n",
      "b\n",
      "a\n",
      "1\n",
      "0\n",
      "-1\n"
     ]
    }
   ],
   "source": [
    "# banana\n",
    "print(word)\n",
    "print(len(word))\n",
    "print(word[0])\n",
    "print(word[-1])\n",
    "print(word.find('a'))\n",
    "print(word.find('b'))\n",
    "print(word.find('c'))"
   ]
  },
  {
   "cell_type": "code",
   "execution_count": 11,
   "id": "bb52c7e7",
   "metadata": {},
   "outputs": [
    {
     "name": "stdout",
     "output_type": "stream",
     "text": [
      "Welcome bot281!\n",
      "You have chosen samurai\n",
      "Your lucky number is 13\n"
     ]
    }
   ],
   "source": [
    "username = input(\"Enter username: \")\n",
    "print(\"Welcome\", username + \"!\")\n",
    "user_class = input(\"Enter your class: \")\n",
    "print(\"You have chosen\", user_class)\n",
    "lucky_num = len(username) + len(user_class)\n",
    "print(\"Your lucky number is\", lucky_num)"
   ]
  },
  {
   "cell_type": "code",
   "execution_count": 17,
   "id": "57f78aa5",
   "metadata": {},
   "outputs": [
    {
     "name": "stdout",
     "output_type": "stream",
     "text": [
      "['John', 'Mick', 'Courtney', 'John', 'Dillan']\n",
      "5\n",
      "0\n",
      "2\n",
      "['Courtney', 'Dillan', 'John', 'John', 'Mick']\n",
      "2\n",
      "[]\n",
      "0\n"
     ]
    }
   ],
   "source": [
    "friends = [\"John\", \"Mick\", \"Courtney\", \"John\", \"Dillan\"]\n",
    "print(friends)\n",
    "print(len(friends))\n",
    "print(friends.index(\"John\"))\n",
    "print(friends.count(\"John\"))\n",
    "friends.sort()\n",
    "print(friends)\n",
    "print(friends.index(\"John\"))\n",
    "friends.clear()\n",
    "print(friends)\n",
    "print(len(friends))"
   ]
  },
  {
   "cell_type": "code",
   "execution_count": 20,
   "id": "d7a93bea",
   "metadata": {},
   "outputs": [
    {
     "name": "stdout",
     "output_type": "stream",
     "text": [
      "4\n",
      "6\n"
     ]
    }
   ],
   "source": [
    "def add_num(num1, num2=1):\n",
    "    return num1 + num2\n",
    "\n",
    "print(add_num(3))   # 3 + 1 default\n",
    "print(add_num(3,3)) # 3 + 3"
   ]
  },
  {
   "cell_type": "markdown",
   "id": "e43f2676",
   "metadata": {},
   "source": [
    "#### What is self?\n",
    "self is just reference to current instance of a class, meaning that it exists in and of itself, like a spiritual thing\n",
    "it does not exist until the object is created, and objects are created when they are called. this is called being passed implicitly\n",
    "class is a blueprint, and self is copy of that blueprint in use\n",
    "when doing self.name, what's actually happening is that \"when this blueprint becomes real and comes into existence, self.name of that instance comes into existence\""
   ]
  },
  {
   "cell_type": "markdown",
   "id": "ad4cb1bd",
   "metadata": {},
   "source": [
    "#### decorators\n",
    "@property = method becomes read-only\n",
    "@x.setter = setting a property\n",
    "@x.deleter = same as del obj.x"
   ]
  },
  {
   "cell_type": "code",
   "execution_count": 51,
   "id": "040fcf05",
   "metadata": {},
   "outputs": [],
   "source": [
    "class Book:\n",
    "    def __init__(self, title, author):\n",
    "        self._title = title    # _ before title means this is internal use only, just warning for developers to don't touch outside class\n",
    "        self.author = author\n",
    "    \n",
    "    @property   # decorates title so accessed like attribute --> turns into getter, property is built into python\n",
    "    def title(self):\n",
    "        print(\"getting title\")\n",
    "        return self._title\n",
    "\n",
    "    @title.setter   # this and deleter attaches to same title property\n",
    "    def title(self, value):\n",
    "        print(\"setting title\")\n",
    "        self._title = value\n",
    "    \n",
    "    @title.deleter\n",
    "    def title(self):\n",
    "        print(\"deleting title\")\n",
    "        del self._title\n",
    "\n",
    "    def read_book(self):\n",
    "        print(f\"Reading {self.title} by {self.author}\")"
   ]
  },
  {
   "cell_type": "code",
   "execution_count": 52,
   "id": "2e5c69b9",
   "metadata": {},
   "outputs": [
    {
     "name": "stdout",
     "output_type": "stream",
     "text": [
      "getting title\n",
      "Reading Percy Jackson by Rick Riordan\n"
     ]
    }
   ],
   "source": [
    "book1 = Book(\"Percy Jackson\", \"Rick Riordan\")\n",
    "book1.read_book()"
   ]
  },
  {
   "cell_type": "code",
   "execution_count": 53,
   "id": "07206336",
   "metadata": {},
   "outputs": [
    {
     "name": "stdout",
     "output_type": "stream",
     "text": [
      "setting title\n"
     ]
    }
   ],
   "source": [
    "book1.title = \"The Lightning Thief\""
   ]
  },
  {
   "cell_type": "code",
   "execution_count": 54,
   "id": "db1d48e8",
   "metadata": {},
   "outputs": [
    {
     "name": "stdout",
     "output_type": "stream",
     "text": [
      "getting title\n",
      "The Lightning Thief\n"
     ]
    }
   ],
   "source": [
    "print(book1.title)"
   ]
  },
  {
   "cell_type": "code",
   "execution_count": 55,
   "id": "6add3150",
   "metadata": {},
   "outputs": [
    {
     "name": "stdout",
     "output_type": "stream",
     "text": [
      "deleting title\n"
     ]
    }
   ],
   "source": [
    "del book1.title"
   ]
  },
  {
   "cell_type": "code",
   "execution_count": 56,
   "id": "a3b51df4",
   "metadata": {},
   "outputs": [
    {
     "name": "stdout",
     "output_type": "stream",
     "text": [
      "getting title\n"
     ]
    },
    {
     "ename": "AttributeError",
     "evalue": "'Book' object has no attribute '_title'",
     "output_type": "error",
     "traceback": [
      "\u001b[31m---------------------------------------------------------------------------\u001b[39m",
      "\u001b[31mAttributeError\u001b[39m                            Traceback (most recent call last)",
      "\u001b[36mCell\u001b[39m\u001b[36m \u001b[39m\u001b[32mIn[56]\u001b[39m\u001b[32m, line 1\u001b[39m\n\u001b[32m----> \u001b[39m\u001b[32m1\u001b[39m \u001b[38;5;28mprint\u001b[39m(\u001b[43mbook1\u001b[49m\u001b[43m.\u001b[49m\u001b[43mtitle\u001b[49m)\n",
      "\u001b[36mCell\u001b[39m\u001b[36m \u001b[39m\u001b[32mIn[51]\u001b[39m\u001b[32m, line 9\u001b[39m, in \u001b[36mBook.title\u001b[39m\u001b[34m(self)\u001b[39m\n\u001b[32m      6\u001b[39m \u001b[38;5;129m@property\u001b[39m   \u001b[38;5;66;03m# decorates title so accessed like attribute --> turns into getter, property is built into python\u001b[39;00m\n\u001b[32m      7\u001b[39m \u001b[38;5;28;01mdef\u001b[39;00m\u001b[38;5;250m \u001b[39m\u001b[34mtitle\u001b[39m(\u001b[38;5;28mself\u001b[39m):\n\u001b[32m      8\u001b[39m     \u001b[38;5;28mprint\u001b[39m(\u001b[33m\"\u001b[39m\u001b[33mgetting title\u001b[39m\u001b[33m\"\u001b[39m)\n\u001b[32m----> \u001b[39m\u001b[32m9\u001b[39m     \u001b[38;5;28;01mreturn\u001b[39;00m \u001b[38;5;28;43mself\u001b[39;49m\u001b[43m.\u001b[49m\u001b[43m_title\u001b[49m\n",
      "\u001b[31mAttributeError\u001b[39m: 'Book' object has no attribute '_title'"
     ]
    }
   ],
   "source": [
    "print(book1.title)"
   ]
  },
  {
   "cell_type": "code",
   "execution_count": 57,
   "id": "78b0af3d",
   "metadata": {},
   "outputs": [
    {
     "name": "stdout",
     "output_type": "stream",
     "text": [
      "setting title\n"
     ]
    }
   ],
   "source": [
    "book1.title = \"Random Book\""
   ]
  },
  {
   "cell_type": "code",
   "execution_count": 58,
   "id": "549b25cb",
   "metadata": {},
   "outputs": [
    {
     "name": "stdout",
     "output_type": "stream",
     "text": [
      "getting title\n",
      "Random Book\n"
     ]
    }
   ],
   "source": [
    "print(book1.title)"
   ]
  },
  {
   "cell_type": "markdown",
   "id": "3d6bbab0",
   "metadata": {},
   "source": [
    "#### *args vs **kwargs\n",
    "non-keyword **arg**uments vs **k**ey**w**ord **arg**uments\n",
    "*args = collects all positional args into tuple, useful when number of args is not known beforehand\n",
    "\n",
    "**kwargs = collects keyword args into a dict, where keys are arg names, values are argument values"
   ]
  },
  {
   "cell_type": "code",
   "execution_count": 21,
   "id": "d0af9a69",
   "metadata": {},
   "outputs": [],
   "source": [
    "def logger(f):\n",
    "    def wrapper(*args, **kwargs):\n",
    "        print(f\"[LOG] Calling {f.__name__} with:\")\n",
    "        print(\"→ args:\", args)\n",
    "        print(\"→ kwargs:\", kwargs)\n",
    "        return f(*args, **kwargs)\n",
    "    return wrapper\n",
    "\n",
    "@logger\n",
    "def cast_spell(spell, mana_cost=0):  # unless specified, spells are free to cast\n",
    "    print(f\"⚡ {spell} was cast! Mana cost: {mana_cost}\")"
   ]
  },
  {
   "cell_type": "code",
   "execution_count": 23,
   "id": "0e030a4d",
   "metadata": {},
   "outputs": [
    {
     "name": "stdout",
     "output_type": "stream",
     "text": [
      "[LOG] Calling cast_spell with:\n",
      "→ args: ('Meteor Strike',)\n",
      "→ kwargs: {'mana_cost': 300}\n",
      "⚡ Meteor Strike was cast! Mana cost: 300\n",
      "[LOG] Calling cast_spell with:\n",
      "→ args: ('Firebolt',)\n",
      "→ kwargs: {'mana_cost': 5}\n",
      "⚡ Firebolt was cast! Mana cost: 5\n",
      "[LOG] Calling cast_spell with:\n",
      "→ args: ('Thunder',)\n",
      "→ kwargs: {'mana_cost': 50}\n",
      "⚡ Thunder was cast! Mana cost: 50\n",
      "[LOG] Calling cast_spell with:\n",
      "→ args: ('Telekinesis',)\n",
      "→ kwargs: {}\n",
      "⚡ Telekinesis was cast! Mana cost: 0\n"
     ]
    }
   ],
   "source": [
    "cast_spell(\"Meteor Strike\", mana_cost=300)\n",
    "cast_spell(\"Firebolt\", mana_cost=5)\n",
    "cast_spell(\"Thunder\", mana_cost=50)\n",
    "cast_spell(\"Telekinesis\")"
   ]
  },
  {
   "cell_type": "markdown",
   "id": "8195190e",
   "metadata": {},
   "source": [
    "#### Inheritance"
   ]
  },
  {
   "cell_type": "code",
   "execution_count": 64,
   "id": "e4d4b043",
   "metadata": {},
   "outputs": [],
   "source": [
    "class Magic():\n",
    "    def cast_fireball(self):\n",
    "        print(\"Magic cast: Fireball!\")\n",
    "    def cast_icespear(self):\n",
    "        print(\"Magic cast: Ice Spear!\")\n",
    "    def cast_natureswrath(self):\n",
    "        print(\"Magic cast: Nature's Wrath!\")\n",
    "\n",
    "class ElementalKnight(Magic):\n",
    "    def cast_fireball(self):\n",
    "        print(\"Magic cast failed: Not enough mana for Fireball!\")\n",
    "    def skill_blazingassault(self):\n",
    "        print(\"Skill use: Blazing Assault!\")\n",
    "    def skill_dynavoltsmash(self):\n",
    "        print(\"Skill use: Dynavolt Smash!\")"
   ]
  },
  {
   "cell_type": "code",
   "execution_count": 65,
   "id": "a1e83f9f",
   "metadata": {},
   "outputs": [
    {
     "name": "stdout",
     "output_type": "stream",
     "text": [
      "Magic cast: Fireball!\n"
     ]
    }
   ],
   "source": [
    "mage = Magic()\n",
    "mage.cast_fireball()"
   ]
  },
  {
   "cell_type": "code",
   "execution_count": 66,
   "id": "de8a6816",
   "metadata": {},
   "outputs": [
    {
     "name": "stdout",
     "output_type": "stream",
     "text": [
      "Magic cast failed: Not enough mana for Fireball!\n",
      "Skill use: Dynavolt Smash!\n"
     ]
    }
   ],
   "source": [
    "knight = ElementalKnight()\n",
    "knight.cast_fireball()\n",
    "knight.skill_dynavoltsmash()"
   ]
  },
  {
   "cell_type": "markdown",
   "id": "4899287b",
   "metadata": {},
   "source": [
    "#### subclass constructor"
   ]
  },
  {
   "cell_type": "code",
   "execution_count": 78,
   "id": "575872a0",
   "metadata": {},
   "outputs": [],
   "source": [
    "class Magic():\n",
    "    def __init__(self, name: str, level: int):  # adding str and int makes it more readable, but not enforced at runtime\n",
    "        self.name = name\n",
    "        self.level = level\n",
    "\n",
    "    def cast_fireball(self):\n",
    "        print(\"Magic cast: Fireball!\")\n",
    "    def cast_icespear(self):\n",
    "        print(\"Magic cast: Ice Spear!\")\n",
    "    def cast_natureswrath(self):\n",
    "        print(\"Magic cast: Nature's Wrath!\")\n",
    "\n",
    "class ElementalKnight(Magic):\n",
    "    def __init__(self, name: str, level: int, linklevel: int):\n",
    "        self.linklevel = linklevel\n",
    "        super().__init__(name, level) # takes in attributes from Magic class\n",
    "\n",
    "    def cast_fireball(self):\n",
    "        print(\"Magic cast failed: Not enough mana for Fireball!\")\n",
    "    def skill_blazingassault(self):\n",
    "        print(\"Skill use: Blazing Assault!\")\n",
    "    def skill_dynavoltsmash(self):\n",
    "        print(\"Skill use: Dynavolt Smash!\")"
   ]
  },
  {
   "cell_type": "code",
   "execution_count": 79,
   "id": "6afeb165",
   "metadata": {},
   "outputs": [
    {
     "name": "stdout",
     "output_type": "stream",
     "text": [
      "Magic cast: Nature's Wrath!\n",
      "Kuma\n",
      "42000\n"
     ]
    }
   ],
   "source": [
    "Kuma = Magic(\"Kuma\", 42000)\n",
    "Kuma.cast_natureswrath()\n",
    "print(Kuma.name)\n",
    "print(Kuma.level)"
   ]
  },
  {
   "cell_type": "code",
   "execution_count": 84,
   "id": "28a993f2",
   "metadata": {},
   "outputs": [
    {
     "name": "stdout",
     "output_type": "stream",
     "text": [
      "Skill use: Blazing Assault!\n",
      "73000\n",
      "10\n"
     ]
    }
   ],
   "source": [
    "Asura = ElementalKnight(\"Asura\", 73000, 10)\n",
    "Asura.skill_blazingassault()\n",
    "print(Asura.level)\n",
    "print(Asura.linklevel)"
   ]
  }
 ],
 "metadata": {
  "kernelspec": {
   "display_name": "base",
   "language": "python",
   "name": "python3"
  },
  "language_info": {
   "codemirror_mode": {
    "name": "ipython",
    "version": 3
   },
   "file_extension": ".py",
   "mimetype": "text/x-python",
   "name": "python",
   "nbconvert_exporter": "python",
   "pygments_lexer": "ipython3",
   "version": "3.11.9"
  }
 },
 "nbformat": 4,
 "nbformat_minor": 5
}
